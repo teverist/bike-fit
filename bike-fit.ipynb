{
 "cells": [
  {
   "cell_type": "code",
   "execution_count": 1,
   "metadata": {},
   "outputs": [
    {
     "name": "stdout",
     "output_type": "stream",
     "text": [
      "['1.mp4', '2.mp4']\n"
     ]
    }
   ],
   "source": [
    "import cv2\n",
    "import numpy as np\n",
    "import matplotlib.pyplot as plt\n",
    "import mediapipe as mp\n",
    "import os\n",
    "from scipy.signal import find_peaks\n",
    "\n",
    "mp_drawing = mp.solutions.drawing_utils\n",
    "mp_pose = mp.solutions.pose\n",
    "\n",
    "# Read videos from the folder\n",
    "# Get the video file names\n",
    "\n",
    "video_files = os.listdir('videos')\n",
    "video_files = [file for file in video_files if file.endswith('.mp4')]\n",
    "print(video_files)\n",
    "\n",
    "caps = []\n",
    "for file in video_files:\n",
    "    cap = cv2.VideoCapture('videos/' + file)\n",
    "    if not cap.isOpened():\n",
    "        print(\"Error opening video stream or file\" + file)\n",
    "    else:\n",
    "        caps.append(cap)\n",
    "\n",
    "    "
   ]
  },
  {
   "cell_type": "code",
   "execution_count": 2,
   "metadata": {},
   "outputs": [],
   "source": [
    "lowest_y = []\n",
    "\n",
    "def _calculate_angle(p1, p2, p3):\n",
    "    '''\n",
    "    Calculate the angle between three points. As defined in report.\n",
    "    '''\n",
    "    a = np.sqrt((p2[0] - p1[0])**2 + (p2[1] - p1[1])**2)\n",
    "    b = np.sqrt((p2[0] - p3[0])**2 + (p2[1] - p3[1])**2)\n",
    "    c = np.sqrt((p3[0] - p1[0])**2 + (p3[1] - p1[1])**2)\n",
    "    angle = np.acos((b**2 + c**2 - a**2)/(2*b*c))\n",
    "    return np.degrees(angle)"
   ]
  },
  {
   "cell_type": "code",
   "execution_count": 6,
   "metadata": {},
   "outputs": [
    {
     "name": "stdout",
     "output_type": "stream",
     "text": [
      "[array([], dtype=int64), array([], dtype=int64)]\n"
     ]
    }
   ],
   "source": [
    "# Calculate lowest y value for each video by looking at local minima of ankle facing the camera\n",
    "# Filter out innaccuracies by adding condition that peaks should be separated by at least 10 frames\n",
    "# get the frame number of the lowest y value for each video\n",
    "\n",
    "video_frames = []\n",
    "\n",
    "for cap in caps:\n",
    "\n",
    "    frames = []\n",
    "\n",
    "    with mp_pose.Pose(\n",
    "        min_detection_confidence=0.5,\n",
    "        min_tracking_confidence=0.5) as pose:\n",
    "\n",
    "        while cap.isOpened():\n",
    "            success, image = cap.read()\n",
    "            if not success:\n",
    "                break\n",
    "\n",
    "            # Flip the image horizontally for a later selfie-view display, and convert\n",
    "            # the BGR image to RGB.\n",
    "            image = cv2.cvtColor(cv2.flip(image, 1), cv2.COLOR_BGR2RGB)\n",
    "            # To improve performance, optionally mark the image as not writeable to\n",
    "            # pass by reference.\n",
    "            image.flags.writeable = False\n",
    "            results = pose.process(image)\n",
    "\n",
    "            # Draw the pose annotation on the image.\n",
    "            image.flags.writeable = True\n",
    "            image = cv2.cvtColor(image, cv2.COLOR_RGB2BGR)\n",
    "            \n",
    "\n",
    "            try:\n",
    "                pose_landmarks = results.pose_landmarks.landmark\n",
    "\n",
    "                # Get the coordinates\n",
    "                left_ankle = [pose_landmarks[mp_pose.PoseLandmark.LEFT_ANKLE.value].x, pose_landmarks[mp_pose.PoseLandmark.LEFT_ANKLE.value].y]\n",
    "                right_ankle = [pose_landmarks[mp_pose.PoseLandmark.RIGHT_ANKLE.value].x, pose_landmarks[mp_pose.PoseLandmark.RIGHT_ANKLE.value].y]\n",
    "\n",
    "                if left_ankle[0] < right_ankle[0]:\n",
    "                    ankle = left_ankle\n",
    "\n",
    "                else:\n",
    "                    ankle = right_ankle\n",
    "\n",
    "                frames.append(ankle[1])\n",
    "\n",
    "            except:\n",
    "                pass\n",
    "\n",
    "    # Check for local minima\n",
    "    # Add condition that peaks should be separated by at least 10 frames\n",
    "    # Get the frame number of the lowest y value\n",
    "\n",
    "    local_minima, _ = find_peaks(frames, distance=10)\n",
    "    \n",
    "    # Add contents of local_minima to video_frames\n",
    "    video_frames.append(local_minima)\n",
    "\n",
    "print(video_frames)\n",
    "\n",
    "\n"
   ]
  },
  {
   "cell_type": "code",
   "execution_count": 4,
   "metadata": {},
   "outputs": [
    {
     "ename": "SyntaxError",
     "evalue": "incomplete input (190108765.py, line 57)",
     "output_type": "error",
     "traceback": [
      "\u001b[1;36m  Input \u001b[1;32mIn [4]\u001b[1;36m\u001b[0m\n\u001b[1;33m    \u001b[0m\n\u001b[1;37m    ^\u001b[0m\n\u001b[1;31mSyntaxError\u001b[0m\u001b[1;31m:\u001b[0m incomplete input\n"
     ]
    }
   ],
   "source": [
    "# Use the frame number to get the lowest y value for each video\n",
    "\n"
   ]
  }
 ],
 "metadata": {
  "kernelspec": {
   "display_name": "Python 3",
   "language": "python",
   "name": "python3"
  },
  "language_info": {
   "codemirror_mode": {
    "name": "ipython",
    "version": 3
   },
   "file_extension": ".py",
   "mimetype": "text/x-python",
   "name": "python",
   "nbconvert_exporter": "python",
   "pygments_lexer": "ipython3",
   "version": "3.10.10"
  },
  "orig_nbformat": 4,
  "vscode": {
   "interpreter": {
    "hash": "eb21bad9a86c0ece8327c80a8cd43dc1d603eb6bf4e20be127ea0707212b1fe8"
   }
  }
 },
 "nbformat": 4,
 "nbformat_minor": 2
}
